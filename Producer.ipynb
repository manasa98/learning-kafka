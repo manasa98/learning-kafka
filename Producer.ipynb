{
 "cells": [
  {
   "cell_type": "code",
   "execution_count": 2,
   "id": "0508c417",
   "metadata": {},
   "outputs": [
    {
     "name": "stdout",
     "output_type": "stream",
     "text": [
      "Collecting kafka-python\n",
      "  Using cached kafka_python-2.0.2-py2.py3-none-any.whl (246 kB)\n",
      "Installing collected packages: kafka-python\n",
      "Successfully installed kafka-python-2.0.2\n",
      "Note: you may need to restart the kernel to use updated packages.\n"
     ]
    }
   ],
   "source": [
    "pip install kafka-python"
   ]
  },
  {
   "cell_type": "code",
   "execution_count": 23,
   "id": "c91f2605",
   "metadata": {},
   "outputs": [
    {
     "name": "stdout",
     "output_type": "stream",
     "text": [
      "Collecting confluent-kafka\n",
      "  Downloading confluent_kafka-2.2.0-cp39-cp39-win_amd64.whl (3.4 MB)\n",
      "Installing collected packages: confluent-kafka\n",
      "Successfully installed confluent-kafka-2.2.0\n",
      "Note: you may need to restart the kernel to use updated packages.\n"
     ]
    }
   ],
   "source": [
    "pip install confluent-kafka"
   ]
  },
  {
   "cell_type": "code",
   "execution_count": 4,
   "id": "5502b66b",
   "metadata": {},
   "outputs": [],
   "source": [
    "import pickle"
   ]
  },
  {
   "cell_type": "code",
   "execution_count": 29,
   "id": "13e6e969",
   "metadata": {},
   "outputs": [
    {
     "name": "stderr",
     "output_type": "stream",
     "text": [
      "INFO:kafka.conn:<BrokerConnection node_id=bootstrap-0 host=healthy-lionfish-5018-us1-kafka.upstash.io:9092 <connecting> [IPv4 ('34.195.190.47', 9092)]>: connecting to healthy-lionfish-5018-us1-kafka.upstash.io:9092 [('34.195.190.47', 9092) IPv4]\n",
      "INFO:kafka.conn:Probing node bootstrap-0 broker version\n",
      "INFO:kafka.conn:<BrokerConnection node_id=bootstrap-0 host=healthy-lionfish-5018-us1-kafka.upstash.io:9092 <handshake> [IPv4 ('34.195.190.47', 9092)]>: Loading system default SSL CAs from DefaultVerifyPaths(cafile=None, capath=None, openssl_cafile_env='SSL_CERT_FILE', openssl_cafile='C:\\\\Program Files\\\\Common Files\\\\ssl/cert.pem', openssl_capath_env='SSL_CERT_DIR', openssl_capath='C:\\\\Program Files\\\\Common Files\\\\ssl/certs')\n",
      "INFO:kafka.conn:<BrokerConnection node_id=bootstrap-0 host=healthy-lionfish-5018-us1-kafka.upstash.io:9092 <authenticating> [IPv4 ('34.195.190.47', 9092)]>: Authenticated as aGVhbHRoeS1saW9uZmlzaC01MDE4JGxY2ft2THMMCzPDT8YMwZ08-V29NiXB6c8 via SCRAM-SHA-256\n",
      "INFO:kafka.conn:<BrokerConnection node_id=bootstrap-0 host=healthy-lionfish-5018-us1-kafka.upstash.io:9092 <authenticating> [IPv4 ('34.195.190.47', 9092)]>: Connection complete.\n",
      "INFO:kafka.conn:Broker version identified as 2.5.0\n",
      "INFO:kafka.conn:Set configuration api_version=(2, 5, 0) to skip auto check_version requests on startup\n",
      "INFO:root:Kafka producer initialized successfully\n"
     ]
    }
   ],
   "source": [
    "import logging\n",
    "from kafka import KafkaProducer\n",
    "import pickle\n",
    "from confluent_kafka.serialization import StringSerializer\n",
    "\n",
    "logging.basicConfig(level=logging.INFO)\n",
    " \n",
    "producer = KafkaProducer( bootstrap_servers=['healthy-lionfish-5018-us1-kafka.upstash.io:9092'],\\\n",
    "                         sasl_mechanism='SCRAM-SHA-256',\\\n",
    "                         security_protocol='SASL_SSL',\\\n",
    "                         sasl_plain_username='aGVhbHRoeS1saW9uZmlzaC01MDE4JGxY2ft2THMMCzPDT8YMwZ08-V29NiXB6c8',\\\n",
    "                         sasl_plain_password='MzU1OTg2NDgtMGY1Zi00ZDU4LTkzZGYtMjUwMzViNTcyZTIx',\n",
    "                        value_serializer=StringSerializer('utf-8'),\n",
    "                        key_serializer=StringSerializer('utf-8'))\n",
    "\n",
    "logging.info(\"Kafka producer initialized successfully\")"
   ]
  },
  {
   "cell_type": "code",
   "execution_count": 22,
   "id": "30d3b803",
   "metadata": {},
   "outputs": [
    {
     "name": "stderr",
     "output_type": "stream",
     "text": [
      "INFO:kafka.conn:<BrokerConnection node_id=2 host=healthy-lionfish-5018-us1-2-kafka.upstash.io:9094 <connecting> [IPv4 ('34.195.190.47', 9094)]>: connecting to healthy-lionfish-5018-us1-2-kafka.upstash.io:9094 [('34.195.190.47', 9094) IPv4]\n",
      "INFO:kafka.conn:<BrokerConnection node_id=2 host=healthy-lionfish-5018-us1-2-kafka.upstash.io:9094 <handshake> [IPv4 ('34.195.190.47', 9094)]>: Loading system default SSL CAs from DefaultVerifyPaths(cafile=None, capath=None, openssl_cafile_env='SSL_CERT_FILE', openssl_cafile='C:\\\\Program Files\\\\Common Files\\\\ssl/cert.pem', openssl_capath_env='SSL_CERT_DIR', openssl_capath='C:\\\\Program Files\\\\Common Files\\\\ssl/certs')\n",
      "INFO:kafka.conn:<BrokerConnection node_id=2 host=healthy-lionfish-5018-us1-2-kafka.upstash.io:9094 <authenticating> [IPv4 ('34.195.190.47', 9094)]>: Authenticated as aGVhbHRoeS1saW9uZmlzaC01MDE4JGxY2ft2THMMCzPDT8YMwZ08-V29NiXB6c8 via SCRAM-SHA-256\n",
      "INFO:kafka.conn:<BrokerConnection node_id=2 host=healthy-lionfish-5018-us1-2-kafka.upstash.io:9094 <authenticating> [IPv4 ('34.195.190.47', 9094)]>: Connection complete.\n",
      "INFO:root:\n",
      "#############\n",
      "\n",
      "INFO:root:topic: demo_topic\n",
      "INFO:root:partition: 0\n",
      "INFO:root:offset: 14\n",
      "INFO:root:timestamp: 1697132718020\n",
      "INFO:kafka.conn:<BrokerConnection node_id=3 host=healthy-lionfish-5018-us1-3-kafka.upstash.io:9095 <connecting> [IPv4 ('174.129.75.41', 9095)]>: connecting to healthy-lionfish-5018-us1-3-kafka.upstash.io:9095 [('174.129.75.41', 9095) IPv4]\n",
      "INFO:kafka.conn:<BrokerConnection node_id=3 host=healthy-lionfish-5018-us1-3-kafka.upstash.io:9095 <handshake> [IPv4 ('174.129.75.41', 9095)]>: Loading system default SSL CAs from DefaultVerifyPaths(cafile=None, capath=None, openssl_cafile_env='SSL_CERT_FILE', openssl_cafile='C:\\\\Program Files\\\\Common Files\\\\ssl/cert.pem', openssl_capath_env='SSL_CERT_DIR', openssl_capath='C:\\\\Program Files\\\\Common Files\\\\ssl/certs')\n",
      "INFO:kafka.conn:<BrokerConnection node_id=3 host=healthy-lionfish-5018-us1-3-kafka.upstash.io:9095 <authenticating> [IPv4 ('174.129.75.41', 9095)]>: Authenticated as aGVhbHRoeS1saW9uZmlzaC01MDE4JGxY2ft2THMMCzPDT8YMwZ08-V29NiXB6c8 via SCRAM-SHA-256\n",
      "INFO:kafka.conn:<BrokerConnection node_id=3 host=healthy-lionfish-5018-us1-3-kafka.upstash.io:9095 <authenticating> [IPv4 ('174.129.75.41', 9095)]>: Connection complete.\n",
      "INFO:root:\n",
      "#############\n",
      "\n",
      "INFO:root:topic: demo_topic\n",
      "INFO:root:partition: 1\n",
      "INFO:root:offset: 11\n",
      "INFO:root:timestamp: 1697132720935\n",
      "INFO:root:\n",
      "#############\n",
      "\n",
      "INFO:root:topic: demo_topic\n",
      "INFO:root:partition: 0\n",
      "INFO:root:offset: 15\n",
      "INFO:root:timestamp: 1697132721548\n",
      "INFO:root:\n",
      "#############\n",
      "\n",
      "INFO:root:topic: demo_topic\n",
      "INFO:root:partition: 0\n",
      "INFO:root:offset: 16\n",
      "INFO:root:timestamp: 1697132721579\n",
      "INFO:root:\n",
      "#############\n",
      "\n",
      "INFO:root:topic: demo_topic\n",
      "INFO:root:partition: 0\n",
      "INFO:root:offset: 17\n",
      "INFO:root:timestamp: 1697132721650\n",
      "INFO:root:\n",
      "#############\n",
      "\n",
      "INFO:root:topic: demo_topic\n",
      "INFO:root:partition: 1\n",
      "INFO:root:offset: 12\n",
      "INFO:root:timestamp: 1697132721683\n",
      "INFO:root:\n",
      "#############\n",
      "\n",
      "INFO:root:topic: demo_topic\n",
      "INFO:root:partition: 1\n",
      "INFO:root:offset: 13\n",
      "INFO:root:timestamp: 1697132721739\n",
      "INFO:root:\n",
      "#############\n",
      "\n",
      "INFO:root:topic: demo_topic\n",
      "INFO:root:partition: 1\n",
      "INFO:root:offset: 14\n",
      "INFO:root:timestamp: 1697132721768\n",
      "INFO:root:\n",
      "#############\n",
      "\n",
      "INFO:root:topic: demo_topic\n",
      "INFO:root:partition: 1\n",
      "INFO:root:offset: 15\n",
      "INFO:root:timestamp: 1697132721854\n",
      "INFO:root:\n",
      "#############\n",
      "\n",
      "INFO:root:topic: demo_topic\n",
      "INFO:root:partition: 0\n",
      "INFO:root:offset: 18\n",
      "INFO:root:timestamp: 1697132721961\n"
     ]
    }
   ],
   "source": [
    "for i in range(10):\n",
    "    try:\n",
    "        metadata = producer.send(\"demo_topic\",value=\"Hello World!\")\n",
    "        metadata = metadata.get()\n",
    "        logging.info(\"\\n#############\\n\")\n",
    "        logging.info(\"topic: \"+metadata.topic)\n",
    "        logging.info(\"partition: \"+str(metadata.partition))\n",
    "        logging.info(\"offset: \"+str(metadata.offset))\n",
    "        logging.info(\"timestamp: \"+str(metadata.timestamp))\n",
    "    except Exception as e:\n",
    "        logging.error(e)"
   ]
  },
  {
   "cell_type": "code",
   "execution_count": 33,
   "id": "3471f131",
   "metadata": {},
   "outputs": [
    {
     "name": "stderr",
     "output_type": "stream",
     "text": [
      "INFO:root:\n",
      "#############\n",
      "\n",
      "INFO:root:key: id_0\n",
      "INFO:root:partition: 1\n",
      "INFO:root:offset: 25\n",
      "INFO:root:timestamp: 1697133356076\n",
      "INFO:root:\n",
      "#############\n",
      "\n",
      "INFO:root:key: id_1\n",
      "INFO:root:partition: 1\n",
      "INFO:root:offset: 26\n",
      "INFO:root:timestamp: 1697133356119\n",
      "INFO:root:\n",
      "#############\n",
      "\n",
      "INFO:root:key: id_2\n",
      "INFO:root:partition: 1\n",
      "INFO:root:offset: 27\n",
      "INFO:root:timestamp: 1697133356151\n",
      "INFO:root:\n",
      "#############\n",
      "\n",
      "INFO:root:key: id_3\n",
      "INFO:root:partition: 1\n",
      "INFO:root:offset: 28\n",
      "INFO:root:timestamp: 1697133356182\n",
      "INFO:root:\n",
      "#############\n",
      "\n",
      "INFO:root:key: id_4\n",
      "INFO:root:partition: 0\n",
      "INFO:root:offset: 21\n",
      "INFO:root:timestamp: 1697133356211\n"
     ]
    }
   ],
   "source": [
    "##Producer with Keys\n",
    "\n",
    "for i in range(5):\n",
    "    try:\n",
    "        \n",
    "        key = \"id_\"+str(i)\n",
    "        value = \"Hello_world_\"+str(i)\n",
    "        metadata = producer.send(\"demo_topic\",key=key,value=value)\n",
    "        metadata = metadata.get()\n",
    "        \n",
    "        logging.info(\"\\n#############\\n\")\n",
    "        logging.info(\"key: \"+key)\n",
    "        logging.info(\"partition: \"+str(metadata.partition))\n",
    "        logging.info(\"offset: \"+str(metadata.offset))\n",
    "        logging.info(\"timestamp: \"+str(metadata.timestamp))\n",
    "    except Exception as e:\n",
    "        logging.error(e)\n",
    "        \n"
   ]
  },
  {
   "cell_type": "code",
   "execution_count": 34,
   "id": "ac5fe075",
   "metadata": {},
   "outputs": [
    {
     "name": "stderr",
     "output_type": "stream",
     "text": [
      "INFO:kafka.conn:<BrokerConnection node_id=3 host=healthy-lionfish-5018-us1-3-kafka.upstash.io:9095 <connected> [IPv4 ('34.195.190.47', 9095)]>: Closing connection. \n",
      "INFO:kafka.conn:<BrokerConnection node_id=2 host=healthy-lionfish-5018-us1-2-kafka.upstash.io:9094 <connected> [IPv4 ('174.129.75.41', 9094)]>: Closing connection. \n"
     ]
    }
   ],
   "source": [
    "producer.flush()\n",
    "producer.close()"
   ]
  },
  {
   "cell_type": "code",
   "execution_count": null,
   "id": "022854f1",
   "metadata": {},
   "outputs": [],
   "source": []
  }
 ],
 "metadata": {
  "kernelspec": {
   "display_name": "Python 3 (ipykernel)",
   "language": "python",
   "name": "python3"
  },
  "language_info": {
   "codemirror_mode": {
    "name": "ipython",
    "version": 3
   },
   "file_extension": ".py",
   "mimetype": "text/x-python",
   "name": "python",
   "nbconvert_exporter": "python",
   "pygments_lexer": "ipython3",
   "version": "3.9.12"
  }
 },
 "nbformat": 4,
 "nbformat_minor": 5
}
